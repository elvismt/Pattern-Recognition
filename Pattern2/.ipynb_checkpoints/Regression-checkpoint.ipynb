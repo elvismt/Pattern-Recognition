{
 "cells": [
  {
   "cell_type": "code",
   "execution_count": 1,
   "metadata": {
    "collapsed": true
   },
   "outputs": [],
   "source": [
    "import numpy as np\n",
    "import scipy as cp\n",
    "import matplotlib.pyplot as plt\n",
    "import pandas as pd\n",
    "\n",
    "%matplotlib inline"
   ]
  },
  {
   "cell_type": "code",
   "execution_count": 2,
   "metadata": {
    "collapsed": false
   },
   "outputs": [],
   "source": [
    "def load_data(file, sep, train_off):\n",
    "    \n",
    "    def normalize(data):\n",
    "        return (data - data.mean()) / (data.max() - data.min())\n",
    "    \n",
    "    data = pd.read_csv(file, sep=sep)\n",
    "    offset = int(train_off * data.shape[0])\n",
    "    yield normalize(data.ix[:offset,:4]).as_matrix()\n",
    "    yield data.ix[:offset,-1:].as_matrix()\n",
    "    yield normalize(data.ix[offset:,:4]).as_matrix()\n",
    "    yield data.ix[offset:,-1:].as_matrix()\n",
    "\n",
    "\n",
    "xt, yt, xv, yv = load_data('dataset.txt', '\\s+', 0.6667)"
   ]
  },
  {
   "cell_type": "code",
   "execution_count": 3,
   "metadata": {
    "collapsed": false
   },
   "outputs": [],
   "source": [
    "def gauss_basis(x, mean):\n",
    "    t = x - mean\n",
    "    return np.exp(-float(t.dot(t))**2)\n",
    "\n",
    "\n",
    "def regression(design, y, lamb):\n",
    "    lambI = lamb * np.identity(design.shape[1])\n",
    "    w1 = lambI + design.T.dot(design)\n",
    "    w2 = np.linalg.inv(w1).dot(design.T)\n",
    "    return w2.dot(y)\n",
    "\n",
    "\n",
    "def learn(x, y, lamb, basis, num_basis):\n",
    "    basis_mean = np.linspace(-1.0, 1.0, num_basis)\n",
    "    num_attrs = num_basis + 1\n",
    "    design = np.empty([x.shape[0], num_attrs])\n",
    "    for i in range(design.shape[0]):\n",
    "        design[i, 0] = 1.0\n",
    "        for j in range(1, design.shape[1]):\n",
    "            design[i, j] = basis(x[i], basis_mean[j-1])\n",
    "    return regression(design, y, lamb)\n",
    "\n",
    "\n",
    "def predict(w, basis, num_basis, x):\n",
    "    basis_mean = np.linspace(-1.0, 1.0, num_basis)\n",
    "    num_attrs = num_basis + 1\n",
    "    ret = w[0]\n",
    "    for i in range(1, w.shape[0]):\n",
    "        ret += w[i] * basis(x, basis_mean[i-1])\n",
    "    return ret\n",
    "\n",
    "\n",
    "def rms_error(y_predicted, y_real):\n",
    "    err = 0\n",
    "    for p, r in zip(y_predicted, y_real):\n",
    "        err += (p - r)**2\n",
    "    return np.sqrt(err) / y_real.shape[0]"
   ]
  },
  {
   "cell_type": "code",
   "execution_count": 4,
   "metadata": {
    "collapsed": false
   },
   "outputs": [
    {
     "data": {
      "image/png": "[encoded data removed]",
      "text/plain": [
       "<matplotlib.figure.Figure at 0x7f131865ca90>"
      ]
     },
     "metadata": {},
     "output_type": "display_data"
    }
   ],
   "source": [
    "def plot_by_m(x, y, basis):\n",
    "    model_error = []\n",
    "    for m in range(1, 10):\n",
    "        w = learn(xt, yt, 0.0, basis, m)\n",
    "        y_predicted = []\n",
    "        for xi in x:\n",
    "            y_predicted.append(predict(w, basis, m, xi))\n",
    "        model_error.append(rms_error(y_predicted, y))\n",
    "    plt.plot(model_error, 'r-')\n",
    "    plt.show()\n",
    "    \n",
    "plot_by_m(xt, yt, gauss_basis)"
   ]
  },
  {
   "cell_type": "code",
   "execution_count": 5,
   "metadata": {
    "collapsed": false
   },
   "outputs": [
    {
     "data": {
      "image/png": "[encoded data removed]",
      "text/plain": [
       "<matplotlib.figure.Figure at 0x7f12eeb3d0f0>"
      ]
     },
     "metadata": {},
     "output_type": "display_data"
    }
   ],
   "source": [
    "def plot_by_lambda(xt, yt, xv, yv, basis, num_basis):\n",
    "    model_training_error = []\n",
    "    model_validation_error = []\n",
    "    lambdas = [l for l in np.arange(0.0, 1.0, 0.05)]\n",
    "    lambdas.extend([l for l in np.arange(1.0, 10.0, 0.1)])\n",
    "    lambdas.extend([l for l in np.arange(10.0, 100.0, 1.0)])\n",
    "    for l in lambdas:\n",
    "        w = learn(xt, yt, l, basis, num_basis)\n",
    "        y_training_predicted = []\n",
    "        y_validation_predicted = []\n",
    "        for xi in xt:\n",
    "            y_training_predicted.append(predict(w, basis, num_basis, xi))\n",
    "        for xi in xv:\n",
    "            y_validation_predicted.append(predict(w, basis, num_basis, xi))\n",
    "        model_training_error.append(rms_error(y_training_predicted, yt))\n",
    "        model_validation_error.append(rms_error(y_validation_predicted, yv))\n",
    "    plt.plot(model_training_error, 'r-')\n",
    "    plt.plot(model_validation_error, 'b-')\n",
    "    plt.show()\n",
    "    \n",
    "plot_by_lambda(xt, yt, xv, yv, gauss_basis, 7)"
   ]
  },
  {
   "cell_type": "code",
   "execution_count": null,
   "metadata": {
    "collapsed": true
   },
   "outputs": [],
   "source": []
  }
 ],
 "metadata": {
  "anaconda-cloud": {},
  "kernelspec": {
   "display_name": "Python 3",
   "language": "python",
   "name": "python3"
  },
  "language_info": {
   "codemirror_mode": {
    "name": "ipython",
    "version": 3
   },
   "file_extension": ".py",
   "mimetype": "text/x-python",
   "name": "python",
   "nbconvert_exporter": "python",
   "pygments_lexer": "ipython3",
   "version": "3.5.2"
  }
 },
 "nbformat": 4,
 "nbformat_minor": 1
}
