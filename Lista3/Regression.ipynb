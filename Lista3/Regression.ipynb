{
 "cells": [
  {
   "cell_type": "code",
   "execution_count": 1,
   "metadata": {
    "collapsed": true
   },
   "outputs": [],
   "source": [
    "\"\"\"\n",
    " Copyright (C) 2016 Elvis Teixeira\n",
    "\n",
    " Licensed under the Apache License, Version 2.0 (the \"License\");\n",
    " you may not use this file except in compliance with the License.\n",
    " You may obtain a copy of the License at\n",
    "\n",
    "    http://www.apache.org/licenses/LICENSE-2.0\n",
    "\n",
    " Unless required by applicable law or agreed to in writing, software\n",
    " distributed under the License is distributed on an \"AS IS\" BASIS,\n",
    " WITHOUT WARRANTIES OR CONDITIONS OF ANY KIND, either express or implied.\n",
    " See the License for the specific language governing permissions and\n",
    " limitations under the License.\n",
    "\"\"\"\n",
    "\n",
    "import numpy as np\n",
    "from scipy.stats import multivariate_normal as normal\n",
    "import matplotlib.pyplot as plt\n",
    "import pandas as pd\n",
    "\n",
    "%matplotlib inline"
   ]
  },
  {
   "cell_type": "code",
   "execution_count": 2,
   "metadata": {
    "collapsed": false
   },
   "outputs": [],
   "source": [
    "def load_data(file, sep='\\s+'):\n",
    "    \"\"\"\n",
    "    Returns a pandas.DataFrame object containing\n",
    "    the data in the csv file\n",
    "    \"\"\"\n",
    "    return pd.read_csv(file, sep=sep)\n",
    "\n",
    "\n",
    "def sample_data(data, train_frac):\n",
    "    \"\"\"\n",
    "    This function separates a fraction of the available\n",
    "    data to be used as training set and the remainder as\n",
    "    the validation set. The sampling is random\n",
    "    \"\"\"\n",
    "    copy = data.copy()\n",
    "    copy.reindex(np.random.permutation(copy.index))\n",
    "    train_count = int(train_frac * copy.shape[0])\n",
    "    # yield training set attrs and labels\n",
    "    yield copy.ix[:train_count,:-1].as_matrix()\n",
    "    yield copy.ix[:train_count,-1].as_matrix()\n",
    "    # yield validation set attrs and labels\n",
    "    yield copy.ix[train_count:,:-1].as_matrix()\n",
    "    yield copy.ix[train_count:,-1].as_matrix()\n",
    "\n",
    "\n",
    "# Sample a random training set and a validation set\n",
    "# Also evaluate the covariance matrix of the training set to\n",
    "# be used as the covariance for the basis functions\n",
    "xt, yt, xv, yv = sample_data(load_data('dataset.txt'), 0.6667)\n",
    "sigma = np.cov(xt.T)"
   ]
  },
  {
   "cell_type": "code",
   "execution_count": 3,
   "metadata": {
    "collapsed": false
   },
   "outputs": [],
   "source": [
    "def create_means(min_m, max_m, dim=4, count=1):\n",
    "    \"\"\"\n",
    "    Creates randomly positioned means for the gaussian\n",
    "    basis functions\n",
    "    \"\"\"\n",
    "    means = {}\n",
    "    for m in range(min_m, max_m):\n",
    "        means[m] = np.random.uniform(0.0, 1.0, (m, dim))\n",
    "    return means\n",
    "\n",
    "\n",
    "def gauss_basis(x, mu, cov=sigma):\n",
    "    \"\"\"\n",
    "    Basis function for our regression expreriment,\n",
    "    this is a multivariate gaussian\n",
    "    \"\"\"\n",
    "    return normal.pdf(x, mu, cov)\n",
    "\n",
    "\n",
    "# This is a \"dictionary of vectors\" where each is a mean\n",
    "# for a basis function\n",
    "means = create_means(1, 30)"
   ]
  },
  {
   "cell_type": "code",
   "execution_count": 4,
   "metadata": {
    "collapsed": false
   },
   "outputs": [],
   "source": [
    "def regression(design, y, lamb):\n",
    "    \"\"\"\n",
    "    Performs a batch regularized linear regression\n",
    "    \"\"\"\n",
    "    lambI = lamb * np.identity(design.shape[1])\n",
    "    w1 = lambI + np.dot(design.T, design)\n",
    "    w2 = np.dot(np.linalg.inv(w1), design.T)\n",
    "    return np.dot(w2, y)\n",
    "\n",
    "\n",
    "def learn(x, y, lamb, basis, num_basis, means):\n",
    "    \"\"\"\n",
    "    Creates the design matrix and performs the\n",
    "    linear regression returning the resulting\n",
    "    weights\n",
    "    \"\"\"\n",
    "    num_attrs = num_basis + 1\n",
    "    design = np.empty((x.shape[0], num_attrs))\n",
    "    for i in range(design.shape[0]):\n",
    "        # first column of the design matrix set to 1\n",
    "        # in order to account for the phy_0 or bias\n",
    "        design[i, 0] = 1.0\n",
    "        for j in range(1, design.shape[1]):\n",
    "            design[i, j] = basis(x[i], means[num_basis][j-1])\n",
    "    return regression(design, y, lamb)\n",
    "\n",
    "\n",
    "def predict(w, basis, means, num_basis, x):\n",
    "    \"\"\"\n",
    "    Returns the predicted value of y given the weights,\n",
    "    the feature vector and the basis functions set\n",
    "    \"\"\"\n",
    "    num_attrs = num_basis + 1\n",
    "    ret = w[0]\n",
    "    for i in range(1, w.shape[0]):\n",
    "        ret += w[i] * basis(x, means[num_basis][i-1])\n",
    "    return ret\n",
    "\n",
    "\n",
    "def error(y_predicted, y_real):\n",
    "    \"\"\"\n",
    "    Returns the root mean squared error\n",
    "    given a vector of observations and one\n",
    "    of predictions\n",
    "    \"\"\"\n",
    "    err = 0.0\n",
    "    for p, r in zip(y_predicted, y_real):\n",
    "        err += (p - r)**2\n",
    "    return np.sqrt(err / y_real.shape[0])\n",
    "\n",
    "\n",
    "def train(xt, yt, xv, yv, ntimes, basis, num_basis, means, lamb=0.0):\n",
    "    \"\"\"\n",
    "    Performs ntimes regressions and returns the weights of\n",
    "    each one and the mean values of the errors\n",
    "    \"\"\"\n",
    "    train_errs = 0.0\n",
    "    valid_errs = 0.0\n",
    "    ws = []\n",
    "    for i in range(ntimes):\n",
    "        w = learn(xt, yt, lamb, basis, num_basis, means)\n",
    "        ws.append(w)\n",
    "        y_predict = []\n",
    "        for xi in xt:\n",
    "            yi = predict(w, basis, means, num_basis, xi)\n",
    "            y_predict.append(yi)\n",
    "        train_errs += error(np.array(y_predict), yt)\n",
    "        y_predict = []\n",
    "        for xi in xv:\n",
    "            yi = predict(w, basis, means, num_basis, xi)\n",
    "            y_predict.append(yi)\n",
    "        valid_errs += error(np.array(y_predict), yv)\n",
    "    return np.array(ws), (train_errs/ntimes), (valid_errs/ntimes)"
   ]
  },
  {
   "cell_type": "code",
   "execution_count": 6,
   "metadata": {
    "collapsed": false
   },
   "outputs": [
    {
     "data": {
      "image/png": "[encoded data removed]",
      "text/plain": [
       "<matplotlib.figure.Figure at 0x7f9f729f0f98>"
      ]
     },
     "metadata": {},
     "output_type": "display_data"
    }
   ],
   "source": [
    "def train_basis_number(xt, yt, xv, yv, maxm, ntimes, basis, means, lamb=0.0):\n",
    "    trainerrs = []\n",
    "    validerrs = []\n",
    "    for m in range(1, maxm):\n",
    "        ws, trainerr, validerr = train(xt, yt, xv, yv, ntimes, basis, m, means, lamb)\n",
    "        trainerrs.append(trainerr)\n",
    "        validerrs.append(validerr)\n",
    "    return np.array(trainerrs), np.array(validerrs)\n",
    "\n",
    "\n",
    "plt.title('Errors for different basis numbers')\n",
    "trainerrs, validerrs = train_basis_number(xt, yt, xv, yv, 30, 3, gauss_basis, means)\n",
    "train_line, = plt.plot(trainerrs, 'r-', label='Training set')\n",
    "valid_line, = plt.plot(validerrs, 'b-', label='Validation set')\n",
    "plt.legend(handles=[train_line, valid_line])\n",
    "plt.show()"
   ]
  },
  {
   "cell_type": "code",
   "execution_count": null,
   "metadata": {
    "collapsed": false
   },
   "outputs": [],
   "source": [
    "def train_lambda(xt, yt, xv, yv, num_basis, ntimes, basis, means):\n",
    "    trainerrs = []\n",
    "    validerrs = []\n",
    "    lambs = [l for l in np.linspace(0.0, 1.0, 10)]\n",
    "    lambs.extend([l for l in np.linspace(1.0, 10.0, 10)])\n",
    "    for l in lambs:\n",
    "        ws, trainerr, validerr = train(xt, yt, xv, yv, ntimes, basis, num_basis, means, l)\n",
    "        trainerrs.append(trainerr)\n",
    "        validerrs.append(validerr)\n",
    "    return np.array(lambs), np.array(trainerrs), np.array(validerrs)\n",
    "\n",
    "\n",
    "plt.title('Errors for different regularization $\\lambda$')\n",
    "lambs, trainerrs, validerrs = train_lambda(xt, yt, xv, yv, 10, 3, gauss_basis, means)\n",
    "train_line, = plt.plot(lambs, trainerrs, 'r-', label='Training set')\n",
    "valid_line, = plt.plot(lambs, validerrs, 'b-', label='Validation set')\n",
    "plt.legend(handles=[train_line, valid_line])\n",
    "plt.show()"
   ]
  },
  {
   "cell_type": "code",
   "execution_count": null,
   "metadata": {
    "collapsed": true
   },
   "outputs": [],
   "source": []
  }
 ],
 "metadata": {
  "anaconda-cloud": {},
  "kernelspec": {
   "display_name": "Python [default]",
   "language": "python",
   "name": "python3"
  },
  "language_info": {
   "codemirror_mode": {
    "name": "ipython",
    "version": 3
   },
   "file_extension": ".py",
   "mimetype": "text/x-python",
   "name": "python",
   "nbconvert_exporter": "python",
   "pygments_lexer": "ipython3",
   "version": "3.5.2"
  },
  "nbpresent": {
   "slides": {},
   "themes": {
    "default": "28f97604-52ae-44a5-93b9-b1c1672476b6",
    "theme": {
     "28f97604-52ae-44a5-93b9-b1c1672476b6": {
      "backgrounds": {
       "dc7afa04-bf90-40b1-82a5-726e3cff5267": {
        "background-color": "31af15d2-7e15-44c5-ab5e-e04b16a89eff",
        "id": "dc7afa04-bf90-40b1-82a5-726e3cff5267"
       }
      },
      "id": "28f97604-52ae-44a5-93b9-b1c1672476b6",
      "palette": {
       "19cc588f-0593-49c9-9f4b-e4d7cc113b1c": {
        "id": "19cc588f-0593-49c9-9f4b-e4d7cc113b1c",
        "rgb": [
         252,
         252,
         252
        ]
       },
       "31af15d2-7e15-44c5-ab5e-e04b16a89eff": {
        "id": "31af15d2-7e15-44c5-ab5e-e04b16a89eff",
        "rgb": [
         68,
         68,
         68
        ]
       },
       "50f92c45-a630-455b-aec3-788680ec7410": {
        "id": "50f92c45-a630-455b-aec3-788680ec7410",
        "rgb": [
         197,
         226,
         245
        ]
       },
       "c5cc3653-2ee1-402a-aba2-7caae1da4f6c": {
        "id": "c5cc3653-2ee1-402a-aba2-7caae1da4f6c",
        "rgb": [
         43,
         126,
         184
        ]
       },
       "efa7f048-9acb-414c-8b04-a26811511a21": {
        "id": "efa7f048-9acb-414c-8b04-a26811511a21",
        "rgb": [
         25.118061674008803,
         73.60176211453744,
         107.4819383259912
        ]
       }
      },
      "rules": {
       "a": {
        "color": "19cc588f-0593-49c9-9f4b-e4d7cc113b1c"
       },
       "blockquote": {
        "color": "50f92c45-a630-455b-aec3-788680ec7410",
        "font-size": 3
       },
       "code": {
        "font-family": "Anonymous Pro"
       },
       "h1": {
        "color": "19cc588f-0593-49c9-9f4b-e4d7cc113b1c",
        "font-family": "Merriweather",
        "font-size": 8
       },
       "h2": {
        "color": "19cc588f-0593-49c9-9f4b-e4d7cc113b1c",
        "font-family": "Merriweather",
        "font-size": 6
       },
       "h3": {
        "color": "50f92c45-a630-455b-aec3-788680ec7410",
        "font-family": "Lato",
        "font-size": 5.5
       },
       "h4": {
        "color": "c5cc3653-2ee1-402a-aba2-7caae1da4f6c",
        "font-family": "Lato",
        "font-size": 5
       },
       "h5": {
        "font-family": "Lato"
       },
       "h6": {
        "font-family": "Lato"
       },
       "h7": {
        "font-family": "Lato"
       },
       "li": {
        "color": "50f92c45-a630-455b-aec3-788680ec7410",
        "font-size": 3.25
       },
       "pre": {
        "font-family": "Anonymous Pro",
        "font-size": 4
       }
      },
      "text-base": {
       "color": "19cc588f-0593-49c9-9f4b-e4d7cc113b1c",
       "font-family": "Lato",
       "font-size": 4
      }
     },
     "6bc5aa0b-f1d7-48fa-b6ba-723c5429750c": {
      "id": "6bc5aa0b-f1d7-48fa-b6ba-723c5429750c",
      "palette": {
       "19cc588f-0593-49c9-9f4b-e4d7cc113b1c": {
        "id": "19cc588f-0593-49c9-9f4b-e4d7cc113b1c",
        "rgb": [
         252,
         252,
         252
        ]
       },
       "31af15d2-7e15-44c5-ab5e-e04b16a89eff": {
        "id": "31af15d2-7e15-44c5-ab5e-e04b16a89eff",
        "rgb": [
         68,
         68,
         68
        ]
       },
       "50f92c45-a630-455b-aec3-788680ec7410": {
        "id": "50f92c45-a630-455b-aec3-788680ec7410",
        "rgb": [
         155,
         177,
         192
        ]
       },
       "c5cc3653-2ee1-402a-aba2-7caae1da4f6c": {
        "id": "c5cc3653-2ee1-402a-aba2-7caae1da4f6c",
        "rgb": [
         43,
         126,
         184
        ]
       },
       "efa7f048-9acb-414c-8b04-a26811511a21": {
        "id": "efa7f048-9acb-414c-8b04-a26811511a21",
        "rgb": [
         25.118061674008803,
         73.60176211453744,
         107.4819383259912
        ]
       }
      },
      "rules": {
       "blockquote": {
        "color": "50f92c45-a630-455b-aec3-788680ec7410"
       },
       "code": {
        "font-family": "Anonymous Pro"
       },
       "h1": {
        "color": "c5cc3653-2ee1-402a-aba2-7caae1da4f6c",
        "font-family": "Lato",
        "font-size": 8
       },
       "h2": {
        "color": "c5cc3653-2ee1-402a-aba2-7caae1da4f6c",
        "font-family": "Lato",
        "font-size": 6
       },
       "h3": {
        "color": "50f92c45-a630-455b-aec3-788680ec7410",
        "font-family": "Lato",
        "font-size": 5.5
       },
       "h4": {
        "color": "c5cc3653-2ee1-402a-aba2-7caae1da4f6c",
        "font-family": "Lato",
        "font-size": 5
       },
       "h5": {
        "font-family": "Lato"
       },
       "h6": {
        "font-family": "Lato"
       },
       "h7": {
        "font-family": "Lato"
       },
       "pre": {
        "font-family": "Anonymous Pro",
        "font-size": 4
       }
      },
      "text-base": {
       "font-family": "Merriweather",
       "font-size": 4
      }
     },
     "f65fab33-973a-45ef-b86b-80484ffc70fd": {
      "id": "f65fab33-973a-45ef-b86b-80484ffc70fd",
      "palette": {
       "19cc588f-0593-49c9-9f4b-e4d7cc113b1c": {
        "id": "19cc588f-0593-49c9-9f4b-e4d7cc113b1c",
        "rgb": [
         252,
         252,
         252
        ]
       },
       "31af15d2-7e15-44c5-ab5e-e04b16a89eff": {
        "id": "31af15d2-7e15-44c5-ab5e-e04b16a89eff",
        "rgb": [
         68,
         68,
         68
        ]
       },
       "50f92c45-a630-455b-aec3-788680ec7410": {
        "id": "50f92c45-a630-455b-aec3-788680ec7410",
        "rgb": [
         155,
         177,
         192
        ]
       },
       "c5cc3653-2ee1-402a-aba2-7caae1da4f6c": {
        "id": "c5cc3653-2ee1-402a-aba2-7caae1da4f6c",
        "rgb": [
         43,
         126,
         184
        ]
       },
       "efa7f048-9acb-414c-8b04-a26811511a21": {
        "id": "efa7f048-9acb-414c-8b04-a26811511a21",
        "rgb": [
         25.118061674008803,
         73.60176211453744,
         107.4819383259912
        ]
       }
      },
      "rules": {
       "blockquote": {
        "color": "50f92c45-a630-455b-aec3-788680ec7410"
       },
       "code": {
        "font-family": "Anonymous Pro"
       },
       "h1": {
        "color": "c5cc3653-2ee1-402a-aba2-7caae1da4f6c",
        "font-family": "Lato",
        "font-size": 8
       },
       "h2": {
        "color": "c5cc3653-2ee1-402a-aba2-7caae1da4f6c",
        "font-family": "Lato",
        "font-size": 6
       },
       "h3": {
        "color": "50f92c45-a630-455b-aec3-788680ec7410",
        "font-family": "Lato",
        "font-size": 5.5
       },
       "h4": {
        "color": "c5cc3653-2ee1-402a-aba2-7caae1da4f6c",
        "font-family": "Lato",
        "font-size": 5
       },
       "h5": {
        "font-family": "Lato"
       },
       "h6": {
        "font-family": "Lato"
       },
       "h7": {
        "font-family": "Lato"
       },
       "pre": {
        "font-family": "Anonymous Pro",
        "font-size": 4
       }
      },
      "text-base": {
       "font-family": "Merriweather",
       "font-size": 4
      }
     }
    }
   }
  }
 },
 "nbformat": 4,
 "nbformat_minor": 1
}
